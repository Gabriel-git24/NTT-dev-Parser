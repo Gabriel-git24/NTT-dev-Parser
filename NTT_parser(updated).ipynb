{
  "cells": [
    {
      "cell_type": "code",
      "execution_count": null,
      "id": "85b7ccbf-a95b-43ee-9c19-2f7f58b2a72c",
      "metadata": {
        "id": "85b7ccbf-a95b-43ee-9c19-2f7f58b2a72c"
      },
      "outputs": [],
      "source": [
        "from bs4 import BeautifulSoup"
      ]
    },
    {
      "cell_type": "code",
      "execution_count": null,
      "id": "d99e1970-bd48-4f82-9669-01c78f3faa66",
      "metadata": {
        "id": "d99e1970-bd48-4f82-9669-01c78f3faa66"
      },
      "outputs": [],
      "source": [
        "import re"
      ]
    },
    {
      "cell_type": "code",
      "execution_count": null,
      "id": "353ce861-0874-4ab2-8b1d-dfc903d4e0d2",
      "metadata": {
        "colab": {
          "base_uri": "https://localhost:8080/",
          "height": 74
        },
        "id": "353ce861-0874-4ab2-8b1d-dfc903d4e0d2",
        "outputId": "a5d19439-13b5-43fe-fe02-771c5582e7d9"
      },
      "outputs": [
        {
          "output_type": "display_data",
          "data": {
            "text/plain": [
              "<IPython.core.display.HTML object>"
            ],
            "text/html": [
              "\n",
              "     <input type=\"file\" id=\"files-95c401f1-dc00-44bc-8e99-49bb8c2491ef\" name=\"files[]\" multiple disabled\n",
              "        style=\"border:none\" />\n",
              "     <output id=\"result-95c401f1-dc00-44bc-8e99-49bb8c2491ef\">\n",
              "      Upload widget is only available when the cell has been executed in the\n",
              "      current browser session. Please rerun this cell to enable.\n",
              "      </output>\n",
              "      <script>// Copyright 2017 Google LLC\n",
              "//\n",
              "// Licensed under the Apache License, Version 2.0 (the \"License\");\n",
              "// you may not use this file except in compliance with the License.\n",
              "// You may obtain a copy of the License at\n",
              "//\n",
              "//      http://www.apache.org/licenses/LICENSE-2.0\n",
              "//\n",
              "// Unless required by applicable law or agreed to in writing, software\n",
              "// distributed under the License is distributed on an \"AS IS\" BASIS,\n",
              "// WITHOUT WARRANTIES OR CONDITIONS OF ANY KIND, either express or implied.\n",
              "// See the License for the specific language governing permissions and\n",
              "// limitations under the License.\n",
              "\n",
              "/**\n",
              " * @fileoverview Helpers for google.colab Python module.\n",
              " */\n",
              "(function(scope) {\n",
              "function span(text, styleAttributes = {}) {\n",
              "  const element = document.createElement('span');\n",
              "  element.textContent = text;\n",
              "  for (const key of Object.keys(styleAttributes)) {\n",
              "    element.style[key] = styleAttributes[key];\n",
              "  }\n",
              "  return element;\n",
              "}\n",
              "\n",
              "// Max number of bytes which will be uploaded at a time.\n",
              "const MAX_PAYLOAD_SIZE = 100 * 1024;\n",
              "\n",
              "function _uploadFiles(inputId, outputId) {\n",
              "  const steps = uploadFilesStep(inputId, outputId);\n",
              "  const outputElement = document.getElementById(outputId);\n",
              "  // Cache steps on the outputElement to make it available for the next call\n",
              "  // to uploadFilesContinue from Python.\n",
              "  outputElement.steps = steps;\n",
              "\n",
              "  return _uploadFilesContinue(outputId);\n",
              "}\n",
              "\n",
              "// This is roughly an async generator (not supported in the browser yet),\n",
              "// where there are multiple asynchronous steps and the Python side is going\n",
              "// to poll for completion of each step.\n",
              "// This uses a Promise to block the python side on completion of each step,\n",
              "// then passes the result of the previous step as the input to the next step.\n",
              "function _uploadFilesContinue(outputId) {\n",
              "  const outputElement = document.getElementById(outputId);\n",
              "  const steps = outputElement.steps;\n",
              "\n",
              "  const next = steps.next(outputElement.lastPromiseValue);\n",
              "  return Promise.resolve(next.value.promise).then((value) => {\n",
              "    // Cache the last promise value to make it available to the next\n",
              "    // step of the generator.\n",
              "    outputElement.lastPromiseValue = value;\n",
              "    return next.value.response;\n",
              "  });\n",
              "}\n",
              "\n",
              "/**\n",
              " * Generator function which is called between each async step of the upload\n",
              " * process.\n",
              " * @param {string} inputId Element ID of the input file picker element.\n",
              " * @param {string} outputId Element ID of the output display.\n",
              " * @return {!Iterable<!Object>} Iterable of next steps.\n",
              " */\n",
              "function* uploadFilesStep(inputId, outputId) {\n",
              "  const inputElement = document.getElementById(inputId);\n",
              "  inputElement.disabled = false;\n",
              "\n",
              "  const outputElement = document.getElementById(outputId);\n",
              "  outputElement.innerHTML = '';\n",
              "\n",
              "  const pickedPromise = new Promise((resolve) => {\n",
              "    inputElement.addEventListener('change', (e) => {\n",
              "      resolve(e.target.files);\n",
              "    });\n",
              "  });\n",
              "\n",
              "  const cancel = document.createElement('button');\n",
              "  inputElement.parentElement.appendChild(cancel);\n",
              "  cancel.textContent = 'Cancel upload';\n",
              "  const cancelPromise = new Promise((resolve) => {\n",
              "    cancel.onclick = () => {\n",
              "      resolve(null);\n",
              "    };\n",
              "  });\n",
              "\n",
              "  // Wait for the user to pick the files.\n",
              "  const files = yield {\n",
              "    promise: Promise.race([pickedPromise, cancelPromise]),\n",
              "    response: {\n",
              "      action: 'starting',\n",
              "    }\n",
              "  };\n",
              "\n",
              "  cancel.remove();\n",
              "\n",
              "  // Disable the input element since further picks are not allowed.\n",
              "  inputElement.disabled = true;\n",
              "\n",
              "  if (!files) {\n",
              "    return {\n",
              "      response: {\n",
              "        action: 'complete',\n",
              "      }\n",
              "    };\n",
              "  }\n",
              "\n",
              "  for (const file of files) {\n",
              "    const li = document.createElement('li');\n",
              "    li.append(span(file.name, {fontWeight: 'bold'}));\n",
              "    li.append(span(\n",
              "        `(${file.type || 'n/a'}) - ${file.size} bytes, ` +\n",
              "        `last modified: ${\n",
              "            file.lastModifiedDate ? file.lastModifiedDate.toLocaleDateString() :\n",
              "                                    'n/a'} - `));\n",
              "    const percent = span('0% done');\n",
              "    li.appendChild(percent);\n",
              "\n",
              "    outputElement.appendChild(li);\n",
              "\n",
              "    const fileDataPromise = new Promise((resolve) => {\n",
              "      const reader = new FileReader();\n",
              "      reader.onload = (e) => {\n",
              "        resolve(e.target.result);\n",
              "      };\n",
              "      reader.readAsArrayBuffer(file);\n",
              "    });\n",
              "    // Wait for the data to be ready.\n",
              "    let fileData = yield {\n",
              "      promise: fileDataPromise,\n",
              "      response: {\n",
              "        action: 'continue',\n",
              "      }\n",
              "    };\n",
              "\n",
              "    // Use a chunked sending to avoid message size limits. See b/62115660.\n",
              "    let position = 0;\n",
              "    do {\n",
              "      const length = Math.min(fileData.byteLength - position, MAX_PAYLOAD_SIZE);\n",
              "      const chunk = new Uint8Array(fileData, position, length);\n",
              "      position += length;\n",
              "\n",
              "      const base64 = btoa(String.fromCharCode.apply(null, chunk));\n",
              "      yield {\n",
              "        response: {\n",
              "          action: 'append',\n",
              "          file: file.name,\n",
              "          data: base64,\n",
              "        },\n",
              "      };\n",
              "\n",
              "      let percentDone = fileData.byteLength === 0 ?\n",
              "          100 :\n",
              "          Math.round((position / fileData.byteLength) * 100);\n",
              "      percent.textContent = `${percentDone}% done`;\n",
              "\n",
              "    } while (position < fileData.byteLength);\n",
              "  }\n",
              "\n",
              "  // All done.\n",
              "  yield {\n",
              "    response: {\n",
              "      action: 'complete',\n",
              "    }\n",
              "  };\n",
              "}\n",
              "\n",
              "scope.google = scope.google || {};\n",
              "scope.google.colab = scope.google.colab || {};\n",
              "scope.google.colab._files = {\n",
              "  _uploadFiles,\n",
              "  _uploadFilesContinue,\n",
              "};\n",
              "})(self);\n",
              "</script> "
            ]
          },
          "metadata": {}
        },
        {
          "output_type": "stream",
          "name": "stdout",
          "text": [
            "Saving ID_84101_Alfalfa_3721_TFT.html to ID_84101_Alfalfa_3721_TFT.html\n"
          ]
        }
      ],
      "source": [
        "'''with open('Nutrient_Tracking_Tool_(NTT)_tft.html', 'r', encoding='utf-8') as file:\n",
        "    tft_content = file.read()'''\n",
        "\n",
        "from google.colab import files\n",
        "uploaded1 = files.upload()\n",
        "\n",
        "filename1 = list(uploaded1.keys())[0]\n",
        "tft_content = uploaded1[filename1].decode('utf-8')"
      ]
    },
    {
      "cell_type": "code",
      "execution_count": null,
      "id": "4df3258e-0dee-4c6b-bff7-c1d052790f45",
      "metadata": {
        "colab": {
          "base_uri": "https://localhost:8080/",
          "height": 74
        },
        "id": "4df3258e-0dee-4c6b-bff7-c1d052790f45",
        "outputId": "c799ad64-b60f-46cb-dc2f-53ba718b79a6"
      },
      "outputs": [
        {
          "output_type": "display_data",
          "data": {
            "text/plain": [
              "<IPython.core.display.HTML object>"
            ],
            "text/html": [
              "\n",
              "     <input type=\"file\" id=\"files-98a9626b-ed0a-4b49-9683-aabebe4a1aa5\" name=\"files[]\" multiple disabled\n",
              "        style=\"border:none\" />\n",
              "     <output id=\"result-98a9626b-ed0a-4b49-9683-aabebe4a1aa5\">\n",
              "      Upload widget is only available when the cell has been executed in the\n",
              "      current browser session. Please rerun this cell to enable.\n",
              "      </output>\n",
              "      <script>// Copyright 2017 Google LLC\n",
              "//\n",
              "// Licensed under the Apache License, Version 2.0 (the \"License\");\n",
              "// you may not use this file except in compliance with the License.\n",
              "// You may obtain a copy of the License at\n",
              "//\n",
              "//      http://www.apache.org/licenses/LICENSE-2.0\n",
              "//\n",
              "// Unless required by applicable law or agreed to in writing, software\n",
              "// distributed under the License is distributed on an \"AS IS\" BASIS,\n",
              "// WITHOUT WARRANTIES OR CONDITIONS OF ANY KIND, either express or implied.\n",
              "// See the License for the specific language governing permissions and\n",
              "// limitations under the License.\n",
              "\n",
              "/**\n",
              " * @fileoverview Helpers for google.colab Python module.\n",
              " */\n",
              "(function(scope) {\n",
              "function span(text, styleAttributes = {}) {\n",
              "  const element = document.createElement('span');\n",
              "  element.textContent = text;\n",
              "  for (const key of Object.keys(styleAttributes)) {\n",
              "    element.style[key] = styleAttributes[key];\n",
              "  }\n",
              "  return element;\n",
              "}\n",
              "\n",
              "// Max number of bytes which will be uploaded at a time.\n",
              "const MAX_PAYLOAD_SIZE = 100 * 1024;\n",
              "\n",
              "function _uploadFiles(inputId, outputId) {\n",
              "  const steps = uploadFilesStep(inputId, outputId);\n",
              "  const outputElement = document.getElementById(outputId);\n",
              "  // Cache steps on the outputElement to make it available for the next call\n",
              "  // to uploadFilesContinue from Python.\n",
              "  outputElement.steps = steps;\n",
              "\n",
              "  return _uploadFilesContinue(outputId);\n",
              "}\n",
              "\n",
              "// This is roughly an async generator (not supported in the browser yet),\n",
              "// where there are multiple asynchronous steps and the Python side is going\n",
              "// to poll for completion of each step.\n",
              "// This uses a Promise to block the python side on completion of each step,\n",
              "// then passes the result of the previous step as the input to the next step.\n",
              "function _uploadFilesContinue(outputId) {\n",
              "  const outputElement = document.getElementById(outputId);\n",
              "  const steps = outputElement.steps;\n",
              "\n",
              "  const next = steps.next(outputElement.lastPromiseValue);\n",
              "  return Promise.resolve(next.value.promise).then((value) => {\n",
              "    // Cache the last promise value to make it available to the next\n",
              "    // step of the generator.\n",
              "    outputElement.lastPromiseValue = value;\n",
              "    return next.value.response;\n",
              "  });\n",
              "}\n",
              "\n",
              "/**\n",
              " * Generator function which is called between each async step of the upload\n",
              " * process.\n",
              " * @param {string} inputId Element ID of the input file picker element.\n",
              " * @param {string} outputId Element ID of the output display.\n",
              " * @return {!Iterable<!Object>} Iterable of next steps.\n",
              " */\n",
              "function* uploadFilesStep(inputId, outputId) {\n",
              "  const inputElement = document.getElementById(inputId);\n",
              "  inputElement.disabled = false;\n",
              "\n",
              "  const outputElement = document.getElementById(outputId);\n",
              "  outputElement.innerHTML = '';\n",
              "\n",
              "  const pickedPromise = new Promise((resolve) => {\n",
              "    inputElement.addEventListener('change', (e) => {\n",
              "      resolve(e.target.files);\n",
              "    });\n",
              "  });\n",
              "\n",
              "  const cancel = document.createElement('button');\n",
              "  inputElement.parentElement.appendChild(cancel);\n",
              "  cancel.textContent = 'Cancel upload';\n",
              "  const cancelPromise = new Promise((resolve) => {\n",
              "    cancel.onclick = () => {\n",
              "      resolve(null);\n",
              "    };\n",
              "  });\n",
              "\n",
              "  // Wait for the user to pick the files.\n",
              "  const files = yield {\n",
              "    promise: Promise.race([pickedPromise, cancelPromise]),\n",
              "    response: {\n",
              "      action: 'starting',\n",
              "    }\n",
              "  };\n",
              "\n",
              "  cancel.remove();\n",
              "\n",
              "  // Disable the input element since further picks are not allowed.\n",
              "  inputElement.disabled = true;\n",
              "\n",
              "  if (!files) {\n",
              "    return {\n",
              "      response: {\n",
              "        action: 'complete',\n",
              "      }\n",
              "    };\n",
              "  }\n",
              "\n",
              "  for (const file of files) {\n",
              "    const li = document.createElement('li');\n",
              "    li.append(span(file.name, {fontWeight: 'bold'}));\n",
              "    li.append(span(\n",
              "        `(${file.type || 'n/a'}) - ${file.size} bytes, ` +\n",
              "        `last modified: ${\n",
              "            file.lastModifiedDate ? file.lastModifiedDate.toLocaleDateString() :\n",
              "                                    'n/a'} - `));\n",
              "    const percent = span('0% done');\n",
              "    li.appendChild(percent);\n",
              "\n",
              "    outputElement.appendChild(li);\n",
              "\n",
              "    const fileDataPromise = new Promise((resolve) => {\n",
              "      const reader = new FileReader();\n",
              "      reader.onload = (e) => {\n",
              "        resolve(e.target.result);\n",
              "      };\n",
              "      reader.readAsArrayBuffer(file);\n",
              "    });\n",
              "    // Wait for the data to be ready.\n",
              "    let fileData = yield {\n",
              "      promise: fileDataPromise,\n",
              "      response: {\n",
              "        action: 'continue',\n",
              "      }\n",
              "    };\n",
              "\n",
              "    // Use a chunked sending to avoid message size limits. See b/62115660.\n",
              "    let position = 0;\n",
              "    do {\n",
              "      const length = Math.min(fileData.byteLength - position, MAX_PAYLOAD_SIZE);\n",
              "      const chunk = new Uint8Array(fileData, position, length);\n",
              "      position += length;\n",
              "\n",
              "      const base64 = btoa(String.fromCharCode.apply(null, chunk));\n",
              "      yield {\n",
              "        response: {\n",
              "          action: 'append',\n",
              "          file: file.name,\n",
              "          data: base64,\n",
              "        },\n",
              "      };\n",
              "\n",
              "      let percentDone = fileData.byteLength === 0 ?\n",
              "          100 :\n",
              "          Math.round((position / fileData.byteLength) * 100);\n",
              "      percent.textContent = `${percentDone}% done`;\n",
              "\n",
              "    } while (position < fileData.byteLength);\n",
              "  }\n",
              "\n",
              "  // All done.\n",
              "  yield {\n",
              "    response: {\n",
              "      action: 'complete',\n",
              "    }\n",
              "  };\n",
              "}\n",
              "\n",
              "scope.google = scope.google || {};\n",
              "scope.google.colab = scope.google.colab || {};\n",
              "scope.google.colab._files = {\n",
              "  _uploadFiles,\n",
              "  _uploadFilesContinue,\n",
              "};\n",
              "})(self);\n",
              "</script> "
            ]
          },
          "metadata": {}
        },
        {
          "output_type": "stream",
          "name": "stdout",
          "text": [
            "Saving ID_84101_Alfalfa_3721_N_TFT.html to ID_84101_Alfalfa_3721_N_TFT.html\n"
          ]
        }
      ],
      "source": [
        "'''with open('Nutrient_Tracking_Tool_(NTT)_ntft.htm', 'r', encoding='utf-8') as file:\n",
        "    ntft_content = file.read()'''\n",
        "\n",
        "\n",
        "from google.colab import files\n",
        "uploaded2 = files.upload()\n",
        "\n",
        "filename2 = list(uploaded2.keys())[0]\n",
        "ntft_content = uploaded2[filename2].decode('utf-8')"
      ]
    },
    {
      "cell_type": "code",
      "execution_count": null,
      "id": "51e16c91-390c-47a3-8816-569a68cd9938",
      "metadata": {
        "id": "51e16c91-390c-47a3-8816-569a68cd9938"
      },
      "outputs": [],
      "source": [
        "def extract_html_tft(file_name):\n",
        "    'parse through the html and select the important parts, then we convert it into text'\n",
        "    soup = BeautifulSoup(file_name, 'html.parser')\n",
        "\n",
        "    'storing soup into a variable'\n",
        "    paragraph = soup.find('p')\n",
        "    paragraph_text = paragraph.get_text()\n",
        "\n",
        "    'we want to slice the information'\n",
        "    start_index = paragraph_text.find('<Results>')\n",
        "    stop_index = paragraph_text.find('<OrganicN_sd>')\n",
        "    results = paragraph_text[start_index:stop_index]\n",
        "\n",
        "    'finding precipitation'\n",
        "    start_index1 = paragraph_text.find('<Precipitation>')\n",
        "    stop_index1 = paragraph_text.find('<SurfaceFlow_01>')\n",
        "    results1 = paragraph_text[start_index1:stop_index1]\n",
        "\n",
        "    'finding crop and crop code'\n",
        "    start_index2 = paragraph_text.find('<CropCode>')\n",
        "    stop_index2 = paragraph_text.find('<Unit>')\n",
        "    results2 = paragraph_text[start_index2:stop_index2]\n",
        "\n",
        "    return results + results1 + results2"
      ]
    },
    {
      "cell_type": "code",
      "execution_count": null,
      "id": "2786396f-dc50-4b8a-b5c9-f3f9f8e6e761",
      "metadata": {
        "id": "2786396f-dc50-4b8a-b5c9-f3f9f8e6e761"
      },
      "outputs": [],
      "source": [
        "def extract_html_ntft(file_name):\n",
        "    'parse through the html and select the important parts, then we convert it into text'\n",
        "    soup = BeautifulSoup(file_name, 'html.parser')\n",
        "\n",
        "    'storing soup into a variable'\n",
        "    paragraph = soup.find('p')\n",
        "    paragraph_text = paragraph.get_text()\n",
        "\n",
        "    'we want to slice the information'\n",
        "    start_index = paragraph_text.find('<Results>')\n",
        "    stop_index = paragraph_text.find('</Results>')\n",
        "    results = paragraph_text[start_index:stop_index]\n",
        "\n",
        "    'finding crops'\n",
        "    start_index1 = paragraph_text.find('<CropCode>')\n",
        "    stop_index1 = paragraph_text.find('<Unit>')\n",
        "    results1 = paragraph_text[start_index1:stop_index1]\n",
        "    return results + results1"
      ]
    },
    {
      "cell_type": "code",
      "execution_count": null,
      "id": "cefd17ff-eab7-4bb5-8f65-553d70f0843c",
      "metadata": {
        "id": "cefd17ff-eab7-4bb5-8f65-553d70f0843c"
      },
      "outputs": [],
      "source": [
        "tft = extract_html_tft(tft_content)\n",
        "ntft = extract_html_ntft(ntft_content)"
      ]
    },
    {
      "cell_type": "code",
      "execution_count": null,
      "id": "45632e2b-624b-4eed-afa7-b993031231c9",
      "metadata": {
        "colab": {
          "base_uri": "https://localhost:8080/"
        },
        "id": "45632e2b-624b-4eed-afa7-b993031231c9",
        "outputId": "4ca80431-76f7-4617-c964-896220849924"
      },
      "outputs": [
        {
          "output_type": "stream",
          "name": "stdout",
          "text": [
            "<Results>\n",
            "    <FieldId>'44.58601-116.61985'</FieldId>\n",
            "    <ErrorCode>0</ErrorCode>\n",
            "    <ErrorDes>No Error</ErrorDes>\n",
            "    <Customer>ID_84101_Alfalfa_3721-'44.58601-116.61985'</Customer>\n",
            "    <OrganicN>0.4360788</OrganicN>\n",
            "    <SurfaceN>0.5425367</SurfaceN>\n",
            "    <SubsurfaceN>9.41577</SubsurfaceN>\n",
            "    <DeepPerN>62.75428</DeepPerN>\n",
            "    <LeachedN>NA</LeachedN>\n",
            "    <TileDrainN>0</TileDrainN>\n",
            "    <VolatilizedN>NA</VolatilizedN>\n",
            "    <N2O>0.9221064</N2O>\n",
            "    <OrganicP>0.04681316</OrganicP>\n",
            "    <SolubleP>0.00635284</SolubleP>\n",
            "    <LeachedP>NA</LeachedP>\n",
            "    <TileDrainP>0</TileDrainP>\n",
            "    <Flow>4.245546</Flow>\n",
            "    <SurfaceFlow>1.027782</SurfaceFlow>\n",
            "    <SubsurfaceFlow>3.217764</SubsurfaceFlow>\n",
            "    <TileDrainFlow>0</TileDrainFlow>\n",
            "    <DeepPercolation>2.147231</DeepPercolation>\n",
            "    <IrrigationApplied>2</IrrigationApplied>\n",
            "    <Sediment>0.05502984</Sediment>\n",
            "    <SurfaceErosion>0.05502984</SurfaceErosion>\n",
            "    <ManureErosion>0</ManureErosion>\n",
            "    <CSeq>-0.2085</CSeq>\n",
            "    <CO2Equ>-0.765195</CO2Equ>\n",
            "    <ClimateImp>0.887095</ClimateImp>\n",
            "    <Precipitation>20.70705</Precipitation>\n",
            "    <CropCode>98</CropCode>\n",
            "    <Yield>0</Yield>\n",
            "    \n"
          ]
        }
      ],
      "source": [
        "print(tft)"
      ]
    },
    {
      "cell_type": "code",
      "execution_count": null,
      "id": "05676660-9975-488a-81c9-08e0e7540a22",
      "metadata": {
        "colab": {
          "base_uri": "https://localhost:8080/"
        },
        "id": "05676660-9975-488a-81c9-08e0e7540a22",
        "outputId": "29b572ea-88cb-4b95-9052-4ad558e099e8"
      },
      "outputs": [
        {
          "output_type": "stream",
          "name": "stdout",
          "text": [
            "<Results>\n",
            "    <FieldId>'44.58601-116.61985'</FieldId>\n",
            "    <ErrorCode>0</ErrorCode>\n",
            "    <ErrorDes>No Error</ErrorDes>\n",
            "    <Customer>ID_84101_Alfalfa_3721-'44.58601-116.61985'</Customer>\n",
            "    <OrganicN>0.4360394</OrganicN>\n",
            "    <SurfaceN>0.4497763</SurfaceN>\n",
            "    <SubsurfaceN>9.231482</SubsurfaceN>\n",
            "    <DeepPerN>61.52698</DeepPerN>\n",
            "    <LeachedN>NA</LeachedN>\n",
            "    <TileDrainN>0</TileDrainN>\n",
            "    <VolatilizedN>NA</VolatilizedN>\n",
            "    <N2O>0.8937798</N2O>\n",
            "    <OrganicP>0.04680529</OrganicP>\n",
            "    <SolubleP>0.006360712</SolubleP>\n",
            "    <LeachedP>NA</LeachedP>\n",
            "    <TileDrainP>0</TileDrainP>\n",
            "    <Flow>4.245546</Flow>\n",
            "    <SurfaceFlow>1.027783</SurfaceFlow>\n",
            "    <SubsurfaceFlow>3.217763</SubsurfaceFlow>\n",
            "    <TileDrainFlow>0</TileDrainFlow>\n",
            "    <DeepPercolation>2.147231</DeepPercolation>\n",
            "    <IrrigationApplied>2</IrrigationApplied>\n",
            "    <Sediment>0.05502984</Sediment>\n",
            "    <SurfaceErosion>0.05502984</SurfaceErosion>\n",
            "    <ManureErosion>0</ManureErosion>\n",
            "    <CSeq>-0.2085</CSeq>\n",
            "    <CO2Equ>-0.765195</CO2Equ>\n",
            "    <ClimateImp>0.88312</ClimateImp>\n",
            "    <Precipitation>20.70705</Precipitation>\n",
            "  <CropCode>98</CropCode>\n",
            "    <Crop>BUFF</Crop>\n",
            "    <Yield>0</Yield>\n",
            "    \n"
          ]
        }
      ],
      "source": [
        "print(ntft)"
      ]
    },
    {
      "cell_type": "code",
      "execution_count": null,
      "id": "7e25c6b5-d072-4a8a-a1b7-736f098ba4f9",
      "metadata": {
        "id": "7e25c6b5-d072-4a8a-a1b7-736f098ba4f9"
      },
      "outputs": [],
      "source": [
        "pattern = re.compile(r\"<(\\w+)>([^<]+)</\\1>\")\n",
        "matches = pattern.findall(tft)\n",
        "data_dict = {tag: value.strip(\"'\") for tag, value in matches}"
      ]
    },
    {
      "cell_type": "code",
      "execution_count": null,
      "id": "a3982c78-a9c4-4117-b6f1-6d8f8c90a718",
      "metadata": {
        "id": "a3982c78-a9c4-4117-b6f1-6d8f8c90a718"
      },
      "outputs": [],
      "source": [
        "'''matches = pattern.findall(tft)'''"
      ]
    },
    {
      "cell_type": "code",
      "execution_count": null,
      "id": "980a16d9-1ab8-4c95-9f98-7efa8e40ffb2",
      "metadata": {
        "id": "980a16d9-1ab8-4c95-9f98-7efa8e40ffb2"
      },
      "outputs": [],
      "source": [
        "'''data_dict = {tag: value.strip(\"'\") for tag, value in matches}'''"
      ]
    },
    {
      "cell_type": "code",
      "execution_count": null,
      "id": "72971b47-318d-4892-bbf6-791f2fb729db",
      "metadata": {
        "colab": {
          "base_uri": "https://localhost:8080/"
        },
        "id": "72971b47-318d-4892-bbf6-791f2fb729db",
        "outputId": "9443ef44-2319-4e33-9e3a-b471bc81f69b"
      },
      "outputs": [
        {
          "output_type": "stream",
          "name": "stdout",
          "text": [
            "{'FieldId': '38.51942-107.95951', 'ErrorCode': '0', 'ErrorDes': 'No Error', 'Customer': \"CO_119348_Fallow_3721-'38.51942-107.95951\", 'OrganicN': '0', 'SurfaceN': '0', 'SubsurfaceN': '0.0001836839', 'DeepPerN': '0', 'LeachedN': 'NA', 'TileDrainN': '0', 'VolatilizedN': 'NA', 'N2O': '0.07412958', 'OrganicP': '0', 'SolubleP': '0', 'LeachedP': 'NA', 'TileDrainP': '0', 'Flow': '0.0001335109', 'SurfaceFlow': '0', 'SubsurfaceFlow': '0.0001335109', 'TileDrainFlow': '0', 'DeepPercolation': '0', 'IrrigationApplied': '2', 'Sediment': '0', 'SurfaceErosion': '0', 'ManureErosion': '0', 'CSeq': '-0.0017', 'CO2Equ': '-0.006239', 'ClimateImp': '0.015514', 'Precipitation': '9.477223', 'CropCode': '98', 'Yield': '0'}\n"
          ]
        }
      ],
      "source": [
        "print(data_dict)"
      ]
    },
    {
      "cell_type": "code",
      "execution_count": null,
      "id": "74d27f1d-ee0a-4cdf-b841-8a4b93d17b8a",
      "metadata": {
        "id": "74d27f1d-ee0a-4cdf-b841-8a4b93d17b8a"
      },
      "outputs": [],
      "source": [
        "def convert_to_dict(t_file):\n",
        "    pattern = re.compile(r\"<(\\w+)>([^<]+)</\\1>\")\n",
        "    matches = pattern.findall(t_file)\n",
        "    data_dict = {tag: value.strip(\"'\") for tag, value in matches}\n",
        "    return data_dict"
      ]
    },
    {
      "cell_type": "code",
      "execution_count": null,
      "id": "b74ab653-34a8-4b50-9187-25c5d616c241",
      "metadata": {
        "id": "b74ab653-34a8-4b50-9187-25c5d616c241"
      },
      "outputs": [],
      "source": [
        "dict_t = convert_to_dict(tft)"
      ]
    },
    {
      "cell_type": "code",
      "execution_count": null,
      "id": "9d610d5a-4a99-47b2-9ee4-9fc253063a11",
      "metadata": {
        "id": "9d610d5a-4a99-47b2-9ee4-9fc253063a11"
      },
      "outputs": [],
      "source": [
        "dict_nt = convert_to_dict(ntft)"
      ]
    },
    {
      "cell_type": "code",
      "execution_count": null,
      "id": "666035a3-3215-4ad7-971f-edd56bcf046c",
      "metadata": {
        "colab": {
          "base_uri": "https://localhost:8080/"
        },
        "id": "666035a3-3215-4ad7-971f-edd56bcf046c",
        "outputId": "e5653cec-bfb9-411d-abee-fd73c6310432"
      },
      "outputs": [
        {
          "output_type": "execute_result",
          "data": {
            "text/plain": [
              "False"
            ]
          },
          "metadata": {},
          "execution_count": 222
        }
      ],
      "source": [
        "dict_t == dict_nt"
      ]
    },
    {
      "cell_type": "code",
      "execution_count": null,
      "id": "c1867328-8756-46a7-9211-1f956d5b2118",
      "metadata": {
        "id": "c1867328-8756-46a7-9211-1f956d5b2118"
      },
      "outputs": [],
      "source": [
        "import pandas as pd"
      ]
    },
    {
      "cell_type": "code",
      "source": [
        "dict_t"
      ],
      "metadata": {
        "colab": {
          "base_uri": "https://localhost:8080/"
        },
        "id": "7vs8sUCWMRGL",
        "outputId": "f84a692f-1c3f-498f-9490-f89c8f26ab27"
      },
      "id": "7vs8sUCWMRGL",
      "execution_count": null,
      "outputs": [
        {
          "output_type": "execute_result",
          "data": {
            "text/plain": [
              "{'FieldId': '44.58601-116.61985',\n",
              " 'ErrorCode': '0',\n",
              " 'ErrorDes': 'No Error',\n",
              " 'Customer': \"ID_84101_Alfalfa_3721-'44.58601-116.61985\",\n",
              " 'OrganicN': '0.4360788',\n",
              " 'SurfaceN': '0.5425367',\n",
              " 'SubsurfaceN': '9.41577',\n",
              " 'DeepPerN': '62.75428',\n",
              " 'LeachedN': 'NA',\n",
              " 'TileDrainN': '0',\n",
              " 'VolatilizedN': 'NA',\n",
              " 'N2O': '0.9221064',\n",
              " 'OrganicP': '0.04681316',\n",
              " 'SolubleP': '0.00635284',\n",
              " 'LeachedP': 'NA',\n",
              " 'TileDrainP': '0',\n",
              " 'Flow': '4.245546',\n",
              " 'SurfaceFlow': '1.027782',\n",
              " 'SubsurfaceFlow': '3.217764',\n",
              " 'TileDrainFlow': '0',\n",
              " 'DeepPercolation': '2.147231',\n",
              " 'IrrigationApplied': '2',\n",
              " 'Sediment': '0.05502984',\n",
              " 'SurfaceErosion': '0.05502984',\n",
              " 'ManureErosion': '0',\n",
              " 'CSeq': '-0.2085',\n",
              " 'CO2Equ': '-0.765195',\n",
              " 'ClimateImp': '0.887095',\n",
              " 'Precipitation': '20.70705',\n",
              " 'CropCode': '98',\n",
              " 'Yield': '0'}"
            ]
          },
          "metadata": {},
          "execution_count": 224
        }
      ]
    },
    {
      "cell_type": "code",
      "source": [
        "df_tft = pd.DataFrame(list(dict_t.items()), columns=['Key', 'TFT'])\n",
        "df_ntft = pd.DataFrame(list(dict_nt.items()), columns=['Key', 'NEW_TFT'])"
      ],
      "metadata": {
        "id": "dx0elXJOHAgX"
      },
      "id": "dx0elXJOHAgX",
      "execution_count": null,
      "outputs": []
    },
    {
      "cell_type": "code",
      "source": [
        "print(df_tft)\n",
        "print(df_ntft)"
      ],
      "metadata": {
        "colab": {
          "base_uri": "https://localhost:8080/"
        },
        "id": "JFPk_Q5GHmoa",
        "outputId": "bfb6473e-1a68-4926-b16c-18f09b494b67"
      },
      "id": "JFPk_Q5GHmoa",
      "execution_count": null,
      "outputs": [
        {
          "output_type": "stream",
          "name": "stdout",
          "text": [
            "                  Key                                        TFT\n",
            "0             FieldId                         44.58601-116.61985\n",
            "1           ErrorCode                                          0\n",
            "2            ErrorDes                                   No Error\n",
            "3            Customer  ID_84101_Alfalfa_3721-'44.58601-116.61985\n",
            "4            OrganicN                                  0.4360788\n",
            "5            SurfaceN                                  0.5425367\n",
            "6         SubsurfaceN                                    9.41577\n",
            "7            DeepPerN                                   62.75428\n",
            "8            LeachedN                                         NA\n",
            "9          TileDrainN                                          0\n",
            "10       VolatilizedN                                         NA\n",
            "11                N2O                                  0.9221064\n",
            "12           OrganicP                                 0.04681316\n",
            "13           SolubleP                                 0.00635284\n",
            "14           LeachedP                                         NA\n",
            "15         TileDrainP                                          0\n",
            "16               Flow                                   4.245546\n",
            "17        SurfaceFlow                                   1.027782\n",
            "18     SubsurfaceFlow                                   3.217764\n",
            "19      TileDrainFlow                                          0\n",
            "20    DeepPercolation                                   2.147231\n",
            "21  IrrigationApplied                                          2\n",
            "22           Sediment                                 0.05502984\n",
            "23     SurfaceErosion                                 0.05502984\n",
            "24      ManureErosion                                          0\n",
            "25               CSeq                                    -0.2085\n",
            "26             CO2Equ                                  -0.765195\n",
            "27         ClimateImp                                   0.887095\n",
            "28      Precipitation                                   20.70705\n",
            "29           CropCode                                         98\n",
            "30              Yield                                          0\n",
            "                  Key                                    NEW_TFT\n",
            "0             FieldId                         44.58601-116.61985\n",
            "1           ErrorCode                                          0\n",
            "2            ErrorDes                                   No Error\n",
            "3            Customer  ID_84101_Alfalfa_3721-'44.58601-116.61985\n",
            "4            OrganicN                                  0.4360394\n",
            "5            SurfaceN                                  0.4497763\n",
            "6         SubsurfaceN                                   9.231482\n",
            "7            DeepPerN                                   61.52698\n",
            "8            LeachedN                                         NA\n",
            "9          TileDrainN                                          0\n",
            "10       VolatilizedN                                         NA\n",
            "11                N2O                                  0.8937798\n",
            "12           OrganicP                                 0.04680529\n",
            "13           SolubleP                                0.006360712\n",
            "14           LeachedP                                         NA\n",
            "15         TileDrainP                                          0\n",
            "16               Flow                                   4.245546\n",
            "17        SurfaceFlow                                   1.027783\n",
            "18     SubsurfaceFlow                                   3.217763\n",
            "19      TileDrainFlow                                          0\n",
            "20    DeepPercolation                                   2.147231\n",
            "21  IrrigationApplied                                          2\n",
            "22           Sediment                                 0.05502984\n",
            "23     SurfaceErosion                                 0.05502984\n",
            "24      ManureErosion                                          0\n",
            "25               CSeq                                    -0.2085\n",
            "26             CO2Equ                                  -0.765195\n",
            "27         ClimateImp                                    0.88312\n",
            "28      Precipitation                                   20.70705\n",
            "29           CropCode                                         98\n",
            "30               Crop                                       BUFF\n",
            "31              Yield                                          0\n"
          ]
        }
      ]
    },
    {
      "cell_type": "code",
      "source": [
        "excel_file_tft = 'tft.xlsx'\n",
        "excel_file_ntft = 'ntft.xlsx'"
      ],
      "metadata": {
        "id": "v5i61MqSJHRi"
      },
      "id": "v5i61MqSJHRi",
      "execution_count": null,
      "outputs": []
    },
    {
      "cell_type": "code",
      "source": [
        "df_tft.to_excel(excel_file_tft, index=False)\n",
        "df_ntft.to_excel(excel_file_ntft, index=False)"
      ],
      "metadata": {
        "id": "lH-O-YxcHvkO"
      },
      "id": "lH-O-YxcHvkO",
      "execution_count": null,
      "outputs": []
    },
    {
      "cell_type": "code",
      "source": [
        "from google.colab import files\n",
        "files.download(excel_file_tft)\n",
        "files.download(excel_file_ntft )"
      ],
      "metadata": {
        "colab": {
          "base_uri": "https://localhost:8080/",
          "height": 182
        },
        "id": "p9uB2ZQBH1Qh",
        "outputId": "9d51c45d-35b8-4d37-e944-e756448f5a8b"
      },
      "id": "p9uB2ZQBH1Qh",
      "execution_count": null,
      "outputs": [
        {
          "output_type": "error",
          "ename": "NameError",
          "evalue": "name 'excel_file_tft' is not defined",
          "traceback": [
            "\u001b[0;31m---------------------------------------------------------------------------\u001b[0m",
            "\u001b[0;31mNameError\u001b[0m                                 Traceback (most recent call last)",
            "\u001b[0;32m<ipython-input-1-9f6df9050593>\u001b[0m in \u001b[0;36m<cell line: 2>\u001b[0;34m()\u001b[0m\n\u001b[1;32m      1\u001b[0m \u001b[0;32mfrom\u001b[0m \u001b[0mgoogle\u001b[0m\u001b[0;34m.\u001b[0m\u001b[0mcolab\u001b[0m \u001b[0;32mimport\u001b[0m \u001b[0mfiles\u001b[0m\u001b[0;34m\u001b[0m\u001b[0;34m\u001b[0m\u001b[0m\n\u001b[0;32m----> 2\u001b[0;31m \u001b[0mfiles\u001b[0m\u001b[0;34m.\u001b[0m\u001b[0mdownload\u001b[0m\u001b[0;34m(\u001b[0m\u001b[0mexcel_file_tft\u001b[0m\u001b[0;34m)\u001b[0m\u001b[0;34m\u001b[0m\u001b[0;34m\u001b[0m\u001b[0m\n\u001b[0m\u001b[1;32m      3\u001b[0m \u001b[0mfiles\u001b[0m\u001b[0;34m.\u001b[0m\u001b[0mdownload\u001b[0m\u001b[0;34m(\u001b[0m\u001b[0mexcel_file_ntft\u001b[0m \u001b[0;34m)\u001b[0m\u001b[0;34m\u001b[0m\u001b[0;34m\u001b[0m\u001b[0m\n",
            "\u001b[0;31mNameError\u001b[0m: name 'excel_file_tft' is not defined"
          ]
        }
      ]
    },
    {
      "cell_type": "code",
      "source": [],
      "metadata": {
        "id": "2foFSKhdNsxn"
      },
      "id": "2foFSKhdNsxn",
      "execution_count": null,
      "outputs": []
    }
  ],
  "metadata": {
    "kernelspec": {
      "display_name": "Python 3 (ipykernel)",
      "language": "python",
      "name": "python3"
    },
    "language_info": {
      "codemirror_mode": {
        "name": "ipython",
        "version": 3
      },
      "file_extension": ".py",
      "mimetype": "text/x-python",
      "name": "python",
      "nbconvert_exporter": "python",
      "pygments_lexer": "ipython3",
      "version": "3.12.5"
    },
    "colab": {
      "provenance": []
    }
  },
  "nbformat": 4,
  "nbformat_minor": 5
}